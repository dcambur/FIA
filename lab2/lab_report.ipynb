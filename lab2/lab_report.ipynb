{
 "cells": [
  {
   "cell_type": "markdown",
   "id": "7d252a8d",
   "metadata": {
    "id": "7d252a8d"
   },
   "source": [
    "# FAF.FIA16.1 -- Artificial Intelligence Fundamentals\n",
    "\n",
    "> **Lab 2:** Flocking Behaviour \\\\\n",
    "> **Performed by:** Cambur Dumitru, group FAF-191 \\\\\n",
    "> **Verified by:** Mihail Gavrilita\n",
    "\n",
    "\n",
    "\n"
   ]
  },
  {
   "cell_type": "markdown",
   "id": "BPiGwyyGNsHh",
   "metadata": {
    "id": "BPiGwyyGNsHh"
   },
   "source": [
    "## Imports and Utils"
   ]
  },
  {
   "cell_type": "code",
   "execution_count": 3,
   "id": "d0fe5324",
   "metadata": {
    "ExecuteTime": {
     "end_time": "2022-01-23T09:47:05.838671Z",
     "start_time": "2022-01-23T09:47:05.834860Z"
    },
    "id": "533fd9fa"
   },
   "outputs": [],
   "source": [
    "import simplequi as simplegui\n",
    "import math\n",
    "import random\n",
    "from utils import Boid\n"
   ]
  },
  {
   "cell_type": "markdown",
   "id": "f5c0493d",
   "metadata": {},
   "source": [
    "## Task 1 -- Implement the Vector class in Python that works on simple Python lists. The Vector class should implement the vector operations:"
   ]
  },
  {
   "cell_type": "code",
   "execution_count": 4,
   "id": "85d6309d",
   "metadata": {},
   "outputs": [
    {
     "name": "stdout",
     "output_type": "stream",
     "text": [
      "[5, 9] [-1, -1] [6, 12] [4.0, 8.0] 26 -2\n"
     ]
    }
   ],
   "source": [
    "class Vector:\n",
    "    def __init__(self, arr=None):\n",
    "        if arr is None:\n",
    "            arr = []\n",
    "        self.vec = arr\n",
    "    \n",
    "    # vector norm/magnitude/distance from origin\n",
    "    def norm(self):\n",
    "        return math.sqrt(sum(x ** 2 for x in self.vec))\n",
    "\n",
    "    # vector addition\n",
    "    def __add__(self, other):\n",
    "        return Vector([x + y for x, y in zip(self.vec, other.vec)])\n",
    "    \n",
    "    # vector substraction\n",
    "    def __sub__(self, other):\n",
    "        return Vector([x - y for x, y in zip(self.vec, other.vec)])\n",
    "    \n",
    "    # vector dot product and scalar multiplication\n",
    "    def __mul__(self, other):\n",
    "        if isinstance(other, Vector):\n",
    "            if len(self.vec) != len(other.vec):\n",
    "                raise ArithmeticError(\"Vectors must have the same length\")\n",
    "            return sum([x * y for x, y in zip(self.vec, other.vec)])\n",
    "\n",
    "        if isinstance(other, int) or isinstance(other, float):\n",
    "            return Vector([x * other for x in self.vec])\n",
    "        raise TypeError(\n",
    "            \"Multiplication only supported with scalar or vector types\")\n",
    "    \n",
    "    # scalar division\n",
    "    def __truediv__(self, other):\n",
    "        return Vector([x / other for x in self.vec])\n",
    "\n",
    "    def __str__(self):\n",
    "        return str(self.vec)\n",
    "    \n",
    "    def __repr__(self):\n",
    "        return str(self.vec)\n",
    "    \n",
    "    # isn't a part of the task, however is needed after to find neighbour boids for radius\n",
    "    def __abs__(self):\n",
    "        return Vector([abs(self.vec[0]), abs(self.vec[1])])\n",
    "    \n",
    "    # implements cross operation on 2d vectors\n",
    "    def cross_2d(self, other):\n",
    "        return self.vec[0] * other.vec[1] - self.vec[1] * other.vec[0]\n",
    "\n",
    "# test on operators\n",
    "vec = Vector([2, 4])\n",
    "vec2 = Vector([3, 5])\n",
    "sum_vec = vec + vec2 # Vector(2+3, 4+5) = Vector(5, 9) -- add\n",
    "sub_vec = vec - vec2 # vector(2-3, 4-5) = Vector(-1, -1) -- subs\n",
    "mul_scal = vec * 3 # Vector(2*3, 4*3) = Vector(6, 12) -- scalar mul\n",
    "div_scal = vec / 0.5 # Vector(2/0.5, 4/0.5) = Vector(4, 8) -- scalar div\n",
    "dot = vec * vec2 # (2*3 + 4*5) = 26 -- dot prod\n",
    "cross = vec.cross_2d(vec2) # (2*5 - 4*3) = -2 -- 2d cross prod\n",
    "print(sum_vec, sub_vec, mul_scal, div_scal, dot, cross)"
   ]
  },
  {
   "cell_type": "markdown",
   "id": "0938e3e4",
   "metadata": {
    "id": "0938e3e4"
   },
   "source": [
    "## Task 2 -- Using the Vector class and the provided paper, implement the Boid class with the steering behaviors:"
   ]
  },
  {
   "cell_type": "code",
   "execution_count": 5,
   "id": "6b0859a4",
   "metadata": {
    "id": "6b0859a4"
   },
   "outputs": [],
   "source": [
    "class Boid:\n",
    "    def __init__(self, sprite):\n",
    "        self.sprite = sprite\n",
    "        self.position = Vector(sprite.pos)\n",
    "        self.velocity = Vector(sprite.vel)\n",
    "        self.radius = 100\n",
    "        self.alignment_factor = 3.0\n",
    "        self.separation_factor = 1.0\n",
    "        self.cohesion_factor = 2.0\n",
    "\n",
    "    def get_proximity(self, other_boid):\n",
    "        return abs(self.position - other_boid.position)\n",
    "\n",
    "    def alignment(self, sprite_group):\n",
    "        align_vec = Vector([0, 0])\n",
    "        proximity_len = 0\n",
    "        for sprite in sprite_group:\n",
    "            if self.sprite == sprite:\n",
    "                continue\n",
    "            other_boid = Boid(sprite)\n",
    "            proximity = self.get_proximity(other_boid)\n",
    "            if proximity.vec[0] <= self.radius and proximity.vec[\n",
    "                1] <= self.radius:\n",
    "                proximity_len += 1\n",
    "                # sum of velocities\n",
    "                align_vec += other_boid.velocity\n",
    "\n",
    "        if proximity_len > 0:\n",
    "            # average velocity\n",
    "            align_vec /= proximity_len\n",
    "            align_vec /= align_vec.norm()\n",
    "            self.velocity += align_vec * self.alignment_factor\n",
    "            self.velocity /= self.velocity.norm()\n",
    "\n",
    "    def separation(self, sprite_group):\n",
    "        separation_vector = Vector([0, 0])\n",
    "        proximity_len = 0\n",
    "        for sprite in sprite_group:\n",
    "            if sprite == self.sprite:\n",
    "                continue\n",
    "\n",
    "            other_boid = Boid(sprite)\n",
    "\n",
    "            proximity = self.get_proximity(other_boid)\n",
    "\n",
    "            if proximity.vec[0] <= self.radius and proximity.vec[\n",
    "                1] <= self.radius:\n",
    "                # calculate the separation vector\n",
    "                separation_vector += (self.position - other_boid.position)\n",
    "                proximity_len += 1\n",
    "\n",
    "        if proximity_len > 0:\n",
    "            # average the separation vector and apply it to the velocity\n",
    "            separation_vector /= proximity_len\n",
    "            self.velocity += separation_vector * self.separation_factor\n",
    "            self.velocity /= self.velocity.norm()\n",
    "\n",
    "    def cohesion(self, sprite_group):\n",
    "        cohesion_vec = Vector([0, 0])\n",
    "        proximity_len = 0\n",
    "        for sprite in sprite_group:\n",
    "\n",
    "            if self.sprite == sprite:\n",
    "                continue\n",
    "\n",
    "            other_boid = Boid(sprite)\n",
    "            proximity = self.get_proximity(other_boid)\n",
    "\n",
    "            if proximity.vec[0] <= self.radius and proximity.vec[\n",
    "                1] <= self.radius:\n",
    "                proximity_len += 1\n",
    "                # sum of positions\n",
    "                cohesion_vec += other_boid.position\n",
    "\n",
    "        if proximity_len > 0:\n",
    "            cohesion_vec /= proximity_len\n",
    "            cohesion_vec -= self.position\n",
    "            self.velocity += cohesion_vec * self.cohesion_factor\n",
    "            self.velocity /= self.velocity.norm()\n"
   ]
  },
  {
   "cell_type": "markdown",
   "id": "d05df7a0",
   "metadata": {},
   "source": [
    "As code above is quite hard to illustrate, I will explain it logically. First of all, boids implement three behaviours:\n",
    "\n",
    "-Alignment\n",
    "    \n",
    "    - Makes boids in some local area (represented by radius) to align by the average of their velocity, as every velocity represents the movement by x and y. Giving a boid the average of velocities of nearby boids will make it align with the said boids. This should be used on all boids in some radius.\n",
    "    \n",
    "    - The formula can be represented as: alignment = sum(neighbour_velocity1...neighbour_velocityN) / len(neighour_boids)\n",
    "    \n",
    "    - We can also multiply it by some factor, which will represent alignment strength\n",
    "    \n",
    "    - Vector can be normalized (divided by magnitude) to make velocity uniform\n",
    "\n",
    "-Cohesion\n",
    "    \n",
    "    - Makes boids in some local area to stick to the center of mass. Cohesion vector can be represented as the average between the positions of all neighbours of the said boid. Cohesion vector should be added to current velocity and normalized for boid to actually travel to the position\n",
    "    - The formula can be represented as: cohesion = sum(neighbour_position1...neighbour_positionN) / len(neighbour_boids)\n",
    "\n",
    "-Separation\n",
    "\n",
    "    - Makes boids to separate from each other after reaching some radius respectively to each other. Is represented as the average of differences between current boid position and nearby boid positions. In simple terms, every difference will create a repulsion for the current boid in respect to the nearby boid. By averaging all differences, we will find the averaged direction, where our boid should move to separate from the nearby boids.\n",
    "    - The formula can be represented as: separation = sum(current_pos-nearby_pos1...current_pos-nearby_posN) / len(neighbour_boids)\n",
    "    "
   ]
  },
  {
   "cell_type": "markdown",
   "id": "3f67a3d5",
   "metadata": {
    "id": "3f67a3d5"
   },
   "source": [
    "## Task 3 -- Add the calm flocking behaviour to the Boid class according to the provided paper, using the 3 steering behaviours implemented in the Task 2."
   ]
  },
  {
   "cell_type": "code",
   "execution_count": 6,
   "id": "82d0bda3",
   "metadata": {},
   "outputs": [],
   "source": [
    "    # flocking is a sum of all three behaviours,\n",
    "    # i simply call every of these as each function directly modifies the velocity, \n",
    "    # therefore sum persists\n",
    "    def flocking(self, sprite_group):\n",
    "        self.cohesion(sprite_group)\n",
    "        self.separation(sprite_group)\n",
    "        self.alignment(sprite_group)\n"
   ]
  },
  {
   "cell_type": "markdown",
   "id": "7e79f8f1",
   "metadata": {
    "id": "046623ad"
   },
   "source": [
    "## Task 4 --  Combine the Boid class with the behaviours implemented in previous tasks with the provided code for the simulation of S. tuberosum and run it in CodeSkulptor. The rocks should exhibit flocking behaviour as implemented in the Boid class."
   ]
  },
  {
   "cell_type": "code",
   "execution_count": 8,
   "id": "f96009c4",
   "metadata": {},
   "outputs": [],
   "source": [
    "def boid_handler():\n",
    "    for rock in rock_group:\n",
    "        boid = Boid(rock)\n",
    "        boid.flocking(rock_group)\n",
    "\n",
    "        rock.pos = boid.position.vec\n",
    "        rock.vel = boid.velocity.vec\n",
    "\n",
    "# creates a handler which triggers every 10ms, which goes through each rock,\n",
    "# converts it into boid and adjust its depending on the neighbours \n",
    "# which are found by comparing to every rock from rock_group after converting them into a boid\n",
    "timer_boid = simplegui.create_timer(10.0, boid_handler)\n",
    "# -> timer.start() is used in the place game starts"
   ]
  },
  {
   "cell_type": "markdown",
   "id": "b6b3978b",
   "metadata": {},
   "source": [
    "## Conclusions:"
   ]
  },
  {
   "cell_type": "markdown",
   "id": "3cclcyPqeSFL",
   "metadata": {
    "id": "3cclcyPqeSFL"
   },
   "source": [
    "After implementing this laboratory work I've about different steering behaviours and in the context of this laboratory work I have learnt to implement these behaviours both separately and as one (flocking). I also changed the example code to change the behaviour of asteroids (rocks) to show how my algorithm works"
   ]
  },
  {
   "cell_type": "markdown",
   "id": "rTJNie6deHsg",
   "metadata": {
    "id": "rTJNie6deHsg"
   },
   "source": [
    "## Bibliography:"
   ]
  },
  {
   "cell_type": "markdown",
   "id": "gUxrDWvseZie",
   "metadata": {
    "id": "gUxrDWvseZie"
   },
   "source": [
    "https://www.red3d.com/cwr/boids/\n",
    "\n",
    "https://www.youtube.com/watch?v=mhjuuHl6qHM"
   ]
  }
 ],
 "metadata": {
  "colab": {
   "provenance": []
  },
  "kernelspec": {
   "display_name": "Python 3 (ipykernel)",
   "language": "python",
   "name": "python3"
  },
  "language_info": {
   "codemirror_mode": {
    "name": "ipython",
    "version": 3
   },
   "file_extension": ".py",
   "mimetype": "text/x-python",
   "name": "python",
   "nbconvert_exporter": "python",
   "pygments_lexer": "ipython3",
   "version": "3.10.8"
  },
  "toc": {
   "base_numbering": 1,
   "nav_menu": {},
   "number_sections": true,
   "sideBar": true,
   "skip_h1_title": false,
   "title_cell": "Table of Contents",
   "title_sidebar": "Contents",
   "toc_cell": false,
   "toc_position": {},
   "toc_section_display": true,
   "toc_window_display": false
  }
 },
 "nbformat": 4,
 "nbformat_minor": 5
}
